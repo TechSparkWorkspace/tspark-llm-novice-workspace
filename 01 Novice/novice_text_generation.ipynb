{
 "cells": [
  {
   "cell_type": "markdown",
   "id": "6efd73e6-6320-4a99-90d7-54a30aae9142",
   "metadata": {},
   "source": [
    "## Summary: \n",
    "\n",
    "This code initializes a text-generation pipeline using the GPT-2 model from Hugging Face's transformers library. When given an input prompt, it generates and returns a continuation of the text in a human-like manner. 🚀"
   ]
  },
  {
   "cell_type": "markdown",
   "id": "025af57e-63c2-4fa5-93f4-94881b8263f9",
   "metadata": {},
   "source": [
    "- Import the `tourch` library"
   ]
  },
  {
   "cell_type": "code",
   "execution_count": 7,
   "id": "0f136252-d880-4c42-9dc7-f7cdc5a06e1b",
   "metadata": {},
   "outputs": [
    {
     "name": "stdout",
     "output_type": "stream",
     "text": [
      "PyTorch Version: 2.5.1\n"
     ]
    }
   ],
   "source": [
    "import torch\n",
    "print(f\"PyTorch Version: {torch.__version__}\")"
   ]
  },
  {
   "cell_type": "code",
   "execution_count": 3,
   "id": "8ef5e630-15a1-4748-8344-e8b8afb91ac9",
   "metadata": {},
   "outputs": [
    {
     "name": "stdout",
     "output_type": "stream",
     "text": [
      "Transformers Version: 4.49.0\n"
     ]
    }
   ],
   "source": [
    "from transformers import pipeline, __version__\n",
    "print(f\"Transformers Version: {__version__}\")"
   ]
  },
  {
   "cell_type": "code",
   "execution_count": 4,
   "id": "66f6770e-54dc-460d-8135-9300dd5e4409",
   "metadata": {},
   "outputs": [
    {
     "name": "stderr",
     "output_type": "stream",
     "text": [
      "Device set to use cpu\n",
      "Setting `pad_token_id` to `eos_token_id`:50256 for open-end generation.\n"
     ]
    },
    {
     "name": "stdout",
     "output_type": "stream",
     "text": [
      "[{'generated_text': 'Hello, my AI Journey started at 6:00am, it was a little late on the evening of Saturday the 14th when you start to see AI people. When you enter the AI office, you go to the door and the AI woman enters'}]\n"
     ]
    }
   ],
   "source": [
    "pipe = pipeline(\"text-generation\", model=\"gpt2\")\n",
    "print(pipe(\"Hello, my AI Journey\"))"
   ]
  }
 ],
 "metadata": {
  "kernelspec": {
   "display_name": "Python 3 (ipykernel)",
   "language": "python",
   "name": "python3"
  },
  "language_info": {
   "codemirror_mode": {
    "name": "ipython",
    "version": 3
   },
   "file_extension": ".py",
   "mimetype": "text/x-python",
   "name": "python",
   "nbconvert_exporter": "python",
   "pygments_lexer": "ipython3",
   "version": "3.10.16"
  }
 },
 "nbformat": 4,
 "nbformat_minor": 5
}
